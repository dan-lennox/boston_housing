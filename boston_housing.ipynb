{
 "cells": [
  {
   "cell_type": "markdown",
   "metadata": {},
   "source": [
    "# Machine Learning Engineer Nanodegree \n",
    "## Model Evaluation & Validation\n",
    "## Project: Predicting Boston Housing Prices\n",
    "\n",
    "Welcome to the first project of the Machine Learning Engineer Nanodegree! In this notebook, some template code has already been provided for you, and you will need to implement additional functionality to successfully complete this project. You will not need to modify the included code beyond what is requested. Sections that begin with **'Implementation'** in the header indicate that the following block of code will require additional functionality which you must provide. Instructions will be provided for each section and the specifics of the implementation are marked in the code block with a 'TODO' statement. Please be sure to read the instructions carefully!\n",
    "\n",
    "In addition to implementing code, there will be questions that you must answer which relate to the project and your implementation. Each section where you will answer a question is preceded by a **'Question X'** header. Carefully read each question and provide thorough answers in the following text boxes that begin with **'Answer:'**. Your project submission will be evaluated based on your answers to each of the questions and the implementation you provide.  \n",
    "\n",
    ">**Note:** Code and Markdown cells can be executed using the **Shift + Enter** keyboard shortcut. In addition, Markdown cells can be edited by typically double-clicking the cell to enter edit mode."
   ]
  },
  {
   "cell_type": "markdown",
   "metadata": {},
   "source": [
    "## Getting Started\n",
    "In this project, you will evaluate the performance and predictive power of a model that has been trained and tested on data collected from homes in suburbs of Boston, Massachusetts. A model trained on this data that is seen as a *good fit* could then be used to make certain predictions about a home — in particular, its monetary value. This model would prove to be invaluable for someone like a real estate agent who could make use of such information on a daily basis.\n",
    "\n",
    "The dataset for this project originates from the [UCI Machine Learning Repository](https://archive.ics.uci.edu/ml/datasets/Housing). The Boston housing data was collected in 1978 and each of the 506 entries represent aggregated data about 14 features for homes from various suburbs in Boston, Massachusetts. For the purposes of this project, the following preprocessing steps have been made to the dataset:\n",
    "- 16 data points have an `'MEDV'` value of 50.0. These data points likely contain **missing or censored values** and have been removed.\n",
    "- 1 data point has an `'RM'` value of 8.78. This data point can be considered an **outlier** and has been removed.\n",
    "- The features `'RM'`, `'LSTAT'`, `'PTRATIO'`, and `'MEDV'` are essential. The remaining **non-relevant features** have been excluded.\n",
    "- The feature `'MEDV'` has been **multiplicatively scaled** to account for 35 years of market inflation.\n",
    "\n",
    "Run the code cell below to load the Boston housing dataset, along with a few of the necessary Python libraries required for this project. You will know the dataset loaded successfully if the size of the dataset is reported."
   ]
  },
  {
   "cell_type": "code",
   "execution_count": 3,
   "metadata": {},
   "outputs": [
    {
     "name": "stderr",
     "output_type": "stream",
     "text": [
      "/usr/local/lib/python3.7/site-packages/sklearn/cross_validation.py:41: DeprecationWarning: This module was deprecated in version 0.18 in favor of the model_selection module into which all the refactored classes and functions are moved. Also note that the interface of the new CV iterators are different from that of this module. This module will be removed in 0.20.\n",
      "  \"This module will be removed in 0.20.\", DeprecationWarning)\n",
      "/usr/local/lib/python3.7/site-packages/sklearn/learning_curve.py:22: DeprecationWarning: This module was deprecated in version 0.18 in favor of the model_selection module into which all the functions are moved. This module will be removed in 0.20\n",
      "  DeprecationWarning)\n"
     ]
    },
    {
     "name": "stdout",
     "output_type": "stream",
     "text": [
      "Boston housing dataset has 489 data points with 4 variables each.\n"
     ]
    }
   ],
   "source": [
    "# Import libraries necessary for this project\n",
    "import numpy as np\n",
    "import pandas as pd\n",
    "from sklearn.cross_validation import ShuffleSplit\n",
    "\n",
    "# Import supplementary visualizations code visuals.py\n",
    "import visuals as vs\n",
    "\n",
    "# Pretty display for notebooks\n",
    "%matplotlib inline\n",
    "\n",
    "# Pandas output formatting.\n",
    "pd.options.display.float_format = '{:.1f}'.format\n",
    "\n",
    "# Load the Boston housing dataset\n",
    "data = pd.read_csv('housing.csv')\n",
    "prices = data['MEDV']\n",
    "features = data.drop('MEDV', axis = 1)\n",
    "    \n",
    "# Success\n",
    "print(\"Boston housing dataset has {} data points with {} variables each.\".format(*data.shape))"
   ]
  },
  {
   "cell_type": "markdown",
   "metadata": {},
   "source": [
    "## Data Exploration\n",
    "In this first section of this project, you will make a cursory investigation about the Boston housing data and provide your observations. Familiarizing yourself with the data through an explorative process is a fundamental practice to help you better understand and justify your results.\n",
    "\n",
    "Since the main goal of this project is to construct a working model which has the capability of predicting the value of houses, we will need to separate the dataset into **features** and the **target variable**. The **features**, `'RM'`, `'LSTAT'`, and `'PTRATIO'`, give us quantitative information about each data point. The **target variable**, `'MEDV'`, will be the variable we seek to predict. These are stored in `features` and `prices`, respectively."
   ]
  },
  {
   "cell_type": "markdown",
   "metadata": {},
   "source": [
    "### Implementation: Calculate Statistics\n",
    "For your very first coding implementation, you will calculate descriptive statistics about the Boston housing prices. Since `numpy` has already been imported for you, use this library to perform the necessary calculations. These statistics will be extremely important later on to analyze various prediction results from the constructed model.\n",
    "\n",
    "In the code cell below, you will need to implement the following:\n",
    "- Calculate the minimum, maximum, mean, median, and standard deviation of `'MEDV'`, which is stored in `prices`.\n",
    "  - Store each calculation in their respective variable."
   ]
  },
  {
   "cell_type": "code",
   "execution_count": 4,
   "metadata": {},
   "outputs": [
    {
     "name": "stdout",
     "output_type": "stream",
     "text": [
      "Statistics for Boston housing dataset:\n",
      "\n",
      "Minimum price: $105000.0\n",
      "Maximum price: $1024800.0\n",
      "Mean price: $454342.94\n",
      "Median price $438900.0\n",
      "Standard deviation of prices: $165171.13\n"
     ]
    }
   ],
   "source": [
    "# TODO: Minimum price of the data\n",
    "minimum_price = np.min(prices);\n",
    "\n",
    "# TODO: Maximum price of the data\n",
    "maximum_price = np.max(prices);\n",
    "\n",
    "# TODO: Mean price of the data\n",
    "mean_price = round(np.mean(prices), 2);\n",
    "\n",
    "# TODO: Median price of the data\n",
    "median_price = np.median(prices);\n",
    "\n",
    "# TODO: Standard deviation of prices of the data\n",
    "std_price = round(np.std(prices), 2);\n",
    "\n",
    "# Validate correctness of values above.\n",
    "# print(prices.describe());\n",
    "\n",
    "# Show the calculated statistics\n",
    "print(\"Statistics for Boston housing dataset:\\n\")\n",
    "print(\"Minimum price: ${}\".format(minimum_price)) \n",
    "print(\"Maximum price: ${}\".format(maximum_price))\n",
    "print(\"Mean price: ${}\".format(mean_price))\n",
    "print(\"Median price ${}\".format(median_price))\n",
    "print(\"Standard deviation of prices: ${}\".format(std_price))"
   ]
  },
  {
   "cell_type": "markdown",
   "metadata": {},
   "source": [
    "### Question 1 - Feature Observation\n",
    "As a reminder, we are using three features from the Boston housing dataset: `'RM'`, `'LSTAT'`, and `'PTRATIO'`. For each data point (neighborhood):\n",
    "- `'RM'` is the average number of rooms among homes in the neighborhood.\n",
    "- `'LSTAT'` is the percentage of homeowners in the neighborhood considered \"lower class\" (working poor).\n",
    "- `'PTRATIO'` is the ratio of students to teachers in primary and secondary schools in the neighborhood.\n",
    "\n",
    "\n",
    "** Using your intuition, for each of the three features above, do you think that an increase in the value of that feature would lead to an **increase** in the value of `'MEDV'` or a **decrease** in the value of `'MEDV'`? Justify your answer for each.**\n",
    "\n",
    "**Hint:** This problem can phrased using examples like below.  \n",
    "* Would you expect a home that has an `'RM'` value(number of rooms) of 6 be worth more or less than a home that has an `'RM'` value of 7?\n",
    "* Would you expect a neighborhood that has an `'LSTAT'` value(percent of lower class workers) of 15 have home prices be worth more or less than a neighborhood that has an `'LSTAT'` value of 20?\n",
    "* Would you expect a neighborhood that has an `'PTRATIO'` value(ratio of students to teachers) of 10 have home prices be worth more or less than a neighborhood that has an `'PTRATIO'` value of 15?"
   ]
  },
  {
   "cell_type": "markdown",
   "metadata": {},
   "source": [
    "\n",
    "**Answer:**\n",
    "\n",
    "RM: Increase\n",
    "\n",
    "An increase in the average number of rooms per home in a neighbourhood is more likely to increase the value of a given house. In general, it costs more money to build a larger home, generally regardless of location and most other factors. Each room requires additional construction costs, so more rooms makes it more likely that a property will cost more. The space required to fit the extra room also requires more land, which can further increase the cost since land generally has value. We can assume, therefore, that a given house found in a neighbourhood with a higher than average number of rooms per house is more likely to have more rooms and as a result be more expensive.\n",
    "\n",
    "LSTAT: Decrease\n",
    "\n",
    "An increase in the percentage of \"lower class\" homeowners in the neighbourhood of a given house is more likely to result in a decreased value for the house. A \"lower class\" homeowner, assuming he/she earns less than average by definition, will in most cases only be able to afford a less than average priced home. A neighbourhood with more \"lower class\" homeowners, therefore, makes it likely that more homes in the neighbourhood have lower prices, increasing the chance that a given house will have a lower price. Additionally, if neighbouring houses are priced lower, then a given houses price will be driven down to match the supply of lower value houses in the area.\n",
    "\n",
    "PTRATIO: Decrease\n",
    "\n",
    "A lower ratio of students to teachers in a school is indicative of smaller class sizes, a well known common attribute of private and high-end public schools. A decrease in this ratio is likely to indicate a higher number of these types of schools in the area where the home is located. The desire to live near these schools, in order to send one's children there, is likely to increase the demand for properties in an area. With an increase in housing demand comes a decrease in housing supply and therefore an increase in home values. So, we can then say that an **increase** in the PTRATIO indicates a lack of the attributes described above, so an **increase** in PTRATIO is likely to cause a **decrease** in housing prices."
   ]
  },
  {
   "cell_type": "markdown",
   "metadata": {},
   "source": [
    "----\n",
    "\n",
    "## Developing a Model\n",
    "In this second section of the project, you will develop the tools and techniques necessary for a model to make a prediction. Being able to make accurate evaluations of each model's performance through the use of these tools and techniques helps to greatly reinforce the confidence in your predictions."
   ]
  },
  {
   "cell_type": "markdown",
   "metadata": {},
   "source": [
    "### Implementation: Define a Performance Metric\n",
    "It is difficult to measure the quality of a given model without quantifying its performance over training and testing. This is typically done using some type of performance metric, whether it is through calculating some type of error, the goodness of fit, or some other useful measurement. For this project, you will be calculating the [*coefficient of determination*](http://stattrek.com/statistics/dictionary.aspx?definition=coefficient_of_determination), R<sup>2</sup>, to quantify your model's performance. The coefficient of determination for a model is a useful statistic in regression analysis, as it often describes how \"good\" that model is at making predictions. \n",
    "\n",
    "The values for R<sup>2</sup> range from 0 to 1, which captures the percentage of squared correlation between the predicted and actual values of the **target variable**. A model with an R<sup>2</sup> of 0 is no better than a model that always predicts the *mean* of the target variable, whereas a model with an R<sup>2</sup> of 1 perfectly predicts the target variable. Any value between 0 and 1 indicates what percentage of the target variable, using this model, can be explained by the **features**. _A model can be given a negative R<sup>2</sup> as well, which indicates that the model is **arbitrarily worse** than one that always predicts the mean of the target variable._\n",
    "\n",
    "For the `performance_metric` function in the code cell below, you will need to implement the following:\n",
    "- Use `r2_score` from `sklearn.metrics` to perform a performance calculation between `y_true` and `y_predict`.\n",
    "- Assign the performance score to the `score` variable."
   ]
  },
  {
   "cell_type": "code",
   "execution_count": 6,
   "metadata": {},
   "outputs": [],
   "source": [
    "# TODO: Import 'r2_score'\n",
    "from sklearn.metrics import r2_score\n",
    "\n",
    "def performance_metric(y_true, y_predict):\n",
    "    \"\"\" Calculates and returns the performance score between \n",
    "        true and predicted values based on the metric chosen. \"\"\"\n",
    "    \n",
    "    # TODO: Calculate the performance score between 'y_true' and 'y_predict'\n",
    "    score = r2_score(y_true, y_predict)\n",
    "    \n",
    "    # Return the score\n",
    "    return score"
   ]
  },
  {
   "cell_type": "markdown",
   "metadata": {},
   "source": [
    "### Question 2 - Goodness of Fit\n",
    "Assume that a dataset contains five data points and a model made the following predictions for the target variable:\n",
    "\n",
    "| True Value | Prediction |\n",
    "| :-------------: | :--------: |\n",
    "| 3.0 | 2.5 |\n",
    "| -0.5 | 0.0 |\n",
    "| 2.0 | 2.1 |\n",
    "| 7.0 | 7.8 |\n",
    "| 4.2 | 5.3 |\n",
    "\n",
    "Run the code cell below to use the `performance_metric` function and calculate this model's coefficient of determination."
   ]
  },
  {
   "cell_type": "code",
   "execution_count": 7,
   "metadata": {},
   "outputs": [
    {
     "name": "stdout",
     "output_type": "stream",
     "text": [
      "Model has a coefficient of determination, R^2, of 0.923.\n"
     ]
    }
   ],
   "source": [
    "# Calculate the performance of this model\n",
    "score = performance_metric([3, -0.5, 2, 7, 4.2], [2.5, 0.0, 2.1, 7.8, 5.3])\n",
    "print(\"Model has a coefficient of determination, R^2, of {:.3f}.\".format(score))"
   ]
  },
  {
   "cell_type": "markdown",
   "metadata": {},
   "source": [
    "* Would you consider this model to have successfully captured the variation of the target variable? \n",
    "* Why or why not?\n",
    "\n",
    "** Hint: **  The R2 score is the proportion of the variance in the dependent variable that is predictable from the independent variable. In other words:\n",
    "* R2 score of 0 means that the dependent variable cannot be predicted from the independent variable.\n",
    "* R2 score of 1 means the dependent variable can be predicted from the independent variable.\n",
    "* R2 score between 0 and 1 indicates the extent to which the dependent variable is predictable. An \n",
    "* R2 score of 0.40 means that 40 percent of the variance in Y is predictable from X."
   ]
  },
  {
   "cell_type": "markdown",
   "metadata": {},
   "source": [
    "**Answer:**\n",
    "\n",
    "I would consider that this model HAS successfully captured the variation of the target variable.\n",
    "\n",
    "The model has a coefficient of determination of 0.923. An R2 score is usually between 0 (the same as simply using the mean for prediction) and 1 (prediction with 100% accuracy), with values closer to 0 indicating poorer prediction performance and values closer to 1 indicating higher prediction performance. Therefore an R2 score of 0.923 is very high on this scale and means that 92.3% of the variance in the dependent target variable can be predicted by the features used by the model.\n",
    "\n",
    "It remains to be seen, however, if this evaluation of the model's performance ultimately accurate, due to the small size of the dataset."
   ]
  },
  {
   "cell_type": "markdown",
   "metadata": {},
   "source": [
    "### Implementation: Shuffle and Split Data\n",
    "Your next implementation requires that you take the Boston housing dataset and split the data into training and testing subsets. Typically, the data is also shuffled into a random order when creating the training and testing subsets to remove any bias in the ordering of the dataset.\n",
    "\n",
    "For the code cell below, you will need to implement the following:\n",
    "- Use `train_test_split` from `sklearn.cross_validation` to shuffle and split the `features` and `prices` data into training and testing sets.\n",
    "  - Split the data into 80% training and 20% testing.\n",
    "  - Set the `random_state` for `train_test_split` to a value of your choice. This ensures results are consistent.\n",
    "- Assign the train and testing splits to `X_train`, `X_test`, `y_train`, and `y_test`."
   ]
  },
  {
   "cell_type": "code",
   "execution_count": 8,
   "metadata": {},
   "outputs": [
    {
     "name": "stdout",
     "output_type": "stream",
     "text": [
      "Training and testing split was successful.\n"
     ]
    }
   ],
   "source": [
    "# TODO: Import 'train_test_split'\n",
    "from sklearn.cross_validation import train_test_split\n",
    "\n",
    "# TODO: Shuffle and split the data into training and testing subsets\n",
    "X_train, X_test, y_train, y_test = train_test_split(features, prices, test_size=0.2, random_state=42)\n",
    "\n",
    "# Success\n",
    "print(\"Training and testing split was successful.\")"
   ]
  },
  {
   "cell_type": "markdown",
   "metadata": {},
   "source": [
    "### Question 3 - Training and Testing\n",
    "\n",
    "* What is the benefit to splitting a dataset into some ratio of training and testing subsets for a learning algorithm?\n",
    "\n",
    "**Hint:** Think about how overfitting or underfitting is contingent upon how splits on data is done."
   ]
  },
  {
   "cell_type": "markdown",
   "metadata": {},
   "source": [
    "**Answer:**\n",
    "\n",
    "If we train a model on the entire dataset, we might eventually find we are getting some solid results. If we continue to tweak and tune our model we might find we are getting some really amazing results!\n",
    "\n",
    "However, when we then try to use our shiny new model to make fresh predictions on entirely new data, we might find that the accuracy of these predictions falls well short of our training results.\n",
    "\n",
    "In this scenario, there's a good chance that our model has simply memorised the training data, rather than having actually learned the characteristics of the data. It's great at making predictions on the training data, but it can't generalise well enough to make accurate predictions on new unseen data. This is called overfitting.\n",
    "\n",
    "In order to work around this problem, it is useful to split our dataset into a training set and a test set. The purpose of the test set is to simulate the introduction of new unseen data.\n",
    "\n",
    "We first train the model on the training set. Then once we think we're getting some good results, we test out the model on the test data set. The performance on the test data set will give us an idea as to whether we have overfitted the model to the training data or if we have created a model that generalises well to new data. If the performance of the model on the training set is similar to the performance on the test set, then we can feel more confident that our model will do a good job of generalising and will be able to more accurately perform predictions on brand new unseen data. However, if the training set results are great, but the testing set results are poor, then our model is probably overfitting the training data."
   ]
  },
  {
   "cell_type": "markdown",
   "metadata": {},
   "source": [
    "----\n",
    "\n",
    "## Analyzing Model Performance\n",
    "In this third section of the project, you'll take a look at several models' learning and testing performances on various subsets of training data. Additionally, you'll investigate one particular algorithm with an increasing `'max_depth'` parameter on the full training set to observe how model complexity affects performance. Graphing your model's performance based on varying criteria can be beneficial in the analysis process, such as visualizing behavior that may not have been apparent from the results alone."
   ]
  },
  {
   "cell_type": "markdown",
   "metadata": {},
   "source": [
    "### Learning Curves\n",
    "The following code cell produces four graphs for a decision tree model with different maximum depths. Each graph visualizes the learning curves of the model for both training and testing as the size of the training set is increased. Note that the shaded region of a learning curve denotes the uncertainty of that curve (measured as the standard deviation). The model is scored on both the training and testing sets using R<sup>2</sup>, the coefficient of determination.  \n",
    "\n",
    "Run the code cell below and use these graphs to answer the following question."
   ]
  },
  {
   "cell_type": "code",
   "execution_count": 42,
   "metadata": {
    "scrolled": false
   },
   "outputs": [
    {
     "data": {
      "image/png": "[encoded data removed]",
      "text/plain": [
       "<Figure size 720x504 with 4 Axes>"
      ]
     },
     "metadata": {},
     "output_type": "display_data"
    }
   ],
   "source": [
    "# Produce learning curves for varying training set sizes and maximum depths\n",
    "vs.ModelLearning(features, prices)"
   ]
  },
  {
   "cell_type": "markdown",
   "metadata": {},
   "source": [
    "### Question 4 - Learning the Data\n",
    "* Choose one of the graphs above and state the maximum depth for the model. \n",
    "* What happens to the score of the training curve as more training points are added? What about the testing curve? \n",
    "* Would having more training points benefit the model? \n",
    "\n",
    "**Hint:** Are the learning curves converging to particular scores? Generally speaking, the more data you have, the better. But if your training and testing curves are converging with a score above your benchmark threshold, would this be necessary?\n",
    "Think about the pros and cons of adding more training points based on if the training and testing curves are converging."
   ]
  },
  {
   "cell_type": "markdown",
   "metadata": {},
   "source": [
    "**Answer:**\n",
    "\n",
    "\n",
    "Choice: Graph with max_depth = 3\n",
    "\n",
    "- What happens to the score of the training curve as more training points are added? What about the testing curve?\n",
    "\n",
    "As more training points are added, the training curve score gradually decreases (degrades). This is because the model initially finds it very easy to find a good fit on the training data, with so few data points, resulting in high scores (low errors). However, as the number of data points increases, the model naturally starts to make some small amount of errors. However, just before 300 data points, the score stabilises.\n",
    "\n",
    "Initially, with very few data points, the testing curve score is low (high errors). This is not surprising as our model hasn't learned all that much from so few data points. However, as the model learns to generalise on the training data with more data points, the testing curve score increases (fewer errors). Eventually, the testing curve score increases to a point similar to that of the training curve and stabilises. The two curves at this point have \"converged\".\n",
    "\n",
    "Because both the training and testing curves have consistently high scores (low errors) after a certain number of data points, the model is not too biased and is not probably not underfitting the data. \n",
    "\n",
    "Because the training and testing curves have converged (low variance), the model is also not likely to be overfitting the training data and appears to generalise well to new data.\n",
    "\n",
    "This particular hyperparameter value of max_depth=3 appears to give the model a good fit, or at least the best fit of the four variations of max_depth values provided.\n",
    "\n",
    "- Would having more training points benefit the model?\n",
    "\n",
    "In this case, adding more training points would be unlikely to benefit the model. The graph currently shows the use of 400 training points. The training and testing curves converged well before 300 training points. The additional data points above 300 are enough to validate that the curves will almost definitely remain converged and consistent."
   ]
  },
  {
   "cell_type": "markdown",
   "metadata": {},
   "source": [
    "### Complexity Curves\n",
    "The following code cell produces a graph for a decision tree model that has been trained and validated on the training data using different maximum depths. The graph produces two complexity curves — one for training and one for validation. Similar to the **learning curves**, the shaded regions of both the complexity curves denote the uncertainty in those curves, and the model is scored on both the training and validation sets using the `performance_metric` function.  \n",
    "\n",
    "** Run the code cell below and use this graph to answer the following two questions Q5 and Q6. **"
   ]
  },
  {
   "cell_type": "code",
   "execution_count": 9,
   "metadata": {},
   "outputs": [
    {
     "data": {
      "image/png": "[encoded data removed]",
      "text/plain": [
       "<Figure size 504x360 with 1 Axes>"
      ]
     },
     "metadata": {},
     "output_type": "display_data"
    }
   ],
   "source": [
    "vs.ModelComplexity(X_train, y_train)"
   ]
  },
  {
   "cell_type": "markdown",
   "metadata": {},
   "source": [
    "### Question 5 - Bias-Variance Tradeoff\n",
    "* When the model is trained with a maximum depth of 1, does the model suffer from high bias or from high variance? \n",
    "* How about when the model is trained with a maximum depth of 10? What visual cues in the graph justify your conclusions?\n",
    "\n",
    "**Hint:** High bias is a sign of underfitting(model is not complex enough to pick up the nuances in the data) and high variance is a sign of overfitting(model is by-hearting the data and cannot generalize well). Think about which model(depth 1 or 10) aligns with which part of the tradeoff."
   ]
  },
  {
   "cell_type": "markdown",
   "metadata": {},
   "source": [
    "**Answer:**\n",
    "\n",
    "* When the model is trained with a maximum depth of 1, does the model suffer from high bias or from high variance? \n",
    "\n",
    "When the model is trained with a maximum depth of 1, it suffers from high **bias**.\n",
    "\n",
    "\n",
    "* How about when the model is trained with a maximum depth of 10?\n",
    "\n",
    "When the model is trained with a maximum depth of 10, it suffers from high **variance**.\n",
    "\n",
    "* What visual cues in the graph justify your conclusions?\n",
    "\n",
    "With a maximum depth of 1, we can see that while the training and validation results are similar, the scores for both are very low. A low score (high number of errors) on the training data is a strong indication that the model is likely oversimplified and is underfitting the data.\n",
    "\n",
    "Conversely, with a maximum depth of 10, the scores for the training data are very high (low errors). This is great, except we can see that the validation data scores are very low (high errors). This a solid indication that our model is overly complex and has likely just memorised the training set data rather than actually having learned the charactaristics of the data. It is probably overfitting the training data and not generalising well to the new data provided in the validation set.\n"
   ]
  },
  {
   "cell_type": "markdown",
   "metadata": {},
   "source": [
    "### Question 6 - Best-Guess Optimal Model\n",
    "* Which maximum depth do you think results in a model that best generalizes to unseen data? \n",
    "* What intuition lead you to this answer?\n",
    "\n",
    "** Hint: ** Look at the graph above Question 5 and see where the validation scores lie for the various depths that have been assigned to the model. Does it get better with increased depth? At what point do we get our best validation score without overcomplicating our model? And remember, Occams Razor states \"Among competing hypotheses, the one with the fewest assumptions should be selected.\""
   ]
  },
  {
   "cell_type": "markdown",
   "metadata": {},
   "source": [
    "**Answer:**\n",
    "\n",
    "* Which maximum depth do you think results in a model that best generalizes to unseen data?\n",
    "\n",
    "A maximum depth of 3 results in a model that best generalizes to unseen data.\n",
    "\n",
    "* What intuition lead you to this answer?\n",
    "\n",
    "The primary reason I picked a max depth of 3 is that this is the depth level before the difference between the training and validation score starts to diverge.\n",
    "\n",
    "The other obvious canditate is a max depth of 4. At this point, even though the training and validation scores have started to diverge, the training and validation both have higher scores than their counterparts with a max depth of 3. The validation score has also not yet started to degrade. \n",
    "\n",
    "However, I picked 3 rather than 4, since 4 trades a slight improvement in accuracy for some uncertainty around the model possibly starting to overfit the training data. This higher (but still relatively low) variance means we have to assume that this variance stays stable, doesn't increase and doesn't cause the validation score to degrade further when the model is presented more unseen data in the future.\n",
    "\n",
    "A max depth of 3 is \"safe\". It has low bias (if not the absolute lowest) and low variance, meaning it should hopefully be consistent in it's predictions on new unseen data."
   ]
  },
  {
   "cell_type": "markdown",
   "metadata": {},
   "source": [
    "-----\n",
    "\n",
    "## Evaluating Model Performance\n",
    "In this final section of the project, you will construct a model and make a prediction on the client's feature set using an optimized model from `fit_model`."
   ]
  },
  {
   "cell_type": "markdown",
   "metadata": {},
   "source": [
    "### Question 7 - Grid Search\n",
    "* What is the grid search technique?\n",
    "* How it can be applied to optimize a learning algorithm?\n",
    "\n",
    "** Hint: ** When explaining the Grid Search technique, be sure to touch upon why it is used,  what the 'grid' entails and what the end goal of this method is. To solidify your answer, you can also give an example of a parameter in a model that can be optimized using this approach."
   ]
  },
  {
   "cell_type": "markdown",
   "metadata": {},
   "source": [
    "**Answer:**\n",
    "\n",
    "The grid search technique is a method used to optimize the hyperparameters of a machine learning model. Specifically, a grid search is most useful when the model has more than one hyperparameter.\n",
    "\n",
    "If a model has only a single hyperparameter, then we can simply select the hyperparameter value which, after cross validation, has the best performance using our chosen model evaluation metric (e.g F1 Score). An example of this scenario might be optimising the polynomial degree parameter of a regression model.\n",
    "\n",
    "However if we have multiple hyperparameters, such as with a Support Vector Machine (SVM) model, then we need to measure the performance of each combination of hyper parameter values. For instance we might need to find the best combination of Kernal, C and Gamma hyperparameters for an SVM model. The Grid Search technique allows us to define a range for each of the possible values for each hyperparameter and then lay out each of these value sets on a different dimension of a multidimensional grid. Each cell in the grid will then represent a different combination of hyperparameter values. Each of these parameters is then assessed using cross validation and an appropriate metric (such as FI Score), with the result being \"stored\" in the grid cell. The cell which contains the most performant result indicates the optimal combination of hyperparameters.\n",
    "\n"
   ]
  },
  {
   "cell_type": "markdown",
   "metadata": {},
   "source": [
    "### Question 8 - Cross-Validation\n",
    "\n",
    "* What is the k-fold cross-validation training technique? \n",
    "\n",
    "* What benefit does this technique provide for grid search when optimizing a model?\n",
    "\n",
    "**Hint:** When explaining the k-fold cross validation technique, be sure to touch upon what 'k' is, how the dataset is split into different parts for training and testing and the number of times it is run based on the 'k' value.\n",
    "\n",
    "When thinking about how k-fold cross validation helps grid search, think about the main drawbacks of grid search which are hinged upon **using a particular subset of data for training or testing** and how k-fold cv could help alleviate that. You can refer to the [docs](http://scikit-learn.org/stable/modules/cross_validation.html#cross-validation) for your answer."
   ]
  },
  {
   "cell_type": "markdown",
   "metadata": {},
   "source": [
    "**Answer:**\n",
    "\n",
    "- What is the k-fold cross-validation training technique?\n",
    "\n",
    "Regular cross-validation involves splitting a given data set into training, validation and testing data sets. The model is trained on the training set and then evaluated against the validation set. The testing set is kept aside for final testing and confirmation of the model.\n",
    "\n",
    "With k-fold cross-validation however, the training and validation sets are instead divided into k number of buckets. So for example, in 6-fold cross-validation, this would be six buckets. The model is then trained k times, so for example, in 6-fold cross-validation the model would be trained six times. Each time the model is trained, one of the buckets (a different one each time) is selected as the validation set. The other k-1 buckets are used as the training set.\n",
    "\n",
    "Once the model has been trained k times, with each of the k buckets having had a turn at being the validation set, the results of all k training sessions are averaged to produce the final model.\n",
    "\n",
    "One scenario for which k-fold cross validation is useful is in situations where splitting our data into training, validation and testing datasets, causes the training set to become too small for effective training.\n",
    "\n",
    "- What benefit does this technique provide for grid search when optimizing a model?\n",
    "\n",
    "The use of the k-fold cross validation technique can also allievate potential issues with validation when using parameter optimisers such as Grid Search.\n",
    "\n",
    "Because Grid Search involves optimising the hyperparameters as much as possible, there's the danger that we can overfit these optimised parameters to the validation data set during training, causing the optimal combination of hyperparameter values generated by the Grid Search to be less than optimal (generalize poorly) when applied to the final testing set (and by extension, less than optimal on future unseen data). The k-fold cross validation technique allieviates this issue by ensuring the final optimised parameters have not been overfit to a single validation set via the \"bucket rotation\" and final averaging used by the k-fold technique as described above."
   ]
  },
  {
   "cell_type": "markdown",
   "metadata": {},
   "source": [
    "### Implementation: Fitting a Model\n",
    "Your final implementation requires that you bring everything together and train a model using the **decision tree algorithm**. To ensure that you are producing an optimized model, you will train the model using the grid search technique to optimize the `'max_depth'` parameter for the decision tree. The `'max_depth'` parameter can be thought of as how many questions the decision tree algorithm is allowed to ask about the data before making a prediction. Decision trees are part of a class of algorithms called *supervised learning algorithms*.\n",
    "\n",
    "In addition, you will find your implementation is using `ShuffleSplit()` for an alternative form of cross-validation (see the `'cv_sets'` variable). While it is not the K-Fold cross-validation technique you describe in **Question 8**, this type of cross-validation technique is just as useful!. The `ShuffleSplit()` implementation below will create 10 (`'n_splits'`) shuffled sets, and for each shuffle, 20% (`'test_size'`) of the data will be used as the *validation set*. While you're working on your implementation, think about the contrasts and similarities it has to the K-fold cross-validation technique.\n",
    "\n",
    "Please note that ShuffleSplit has different parameters in scikit-learn versions 0.17 and 0.18.\n",
    "For the `fit_model` function in the code cell below, you will need to implement the following:\n",
    "- Use [`DecisionTreeRegressor`](http://scikit-learn.org/stable/modules/generated/sklearn.tree.DecisionTreeRegressor.html) from `sklearn.tree` to create a decision tree regressor object.\n",
    "  - Assign this object to the `'regressor'` variable.\n",
    "- Create a dictionary for `'max_depth'` with the values from 1 to 10, and assign this to the `'params'` variable.\n",
    "- Use [`make_scorer`](http://scikit-learn.org/stable/modules/generated/sklearn.metrics.make_scorer.html) from `sklearn.metrics` to create a scoring function object.\n",
    "  - Pass the `performance_metric` function as a parameter to the object.\n",
    "  - Assign this scoring function to the `'scoring_fnc'` variable.\n",
    "- Use [`GridSearchCV`](http://scikit-learn.org/0.17/modules/generated/sklearn.grid_search.GridSearchCV.html) from `sklearn.grid_search` to create a grid search object.\n",
    "  - Pass the variables `'regressor'`, `'params'`, `'scoring_fnc'`, and `'cv_sets'` as parameters to the object. \n",
    "  - Assign the `GridSearchCV` object to the `'grid'` variable."
   ]
  },
  {
   "cell_type": "code",
   "execution_count": 50,
   "metadata": {},
   "outputs": [],
   "source": [
    "# TODO: Import 'make_scorer', 'DecisionTreeRegressor', and 'GridSearchCV'\n",
    "from sklearn.metrics import make_scorer\n",
    "from sklearn.tree import DecisionTreeRegressor\n",
    "from sklearn.model_selection import GridSearchCV\n",
    "\n",
    "def fit_model(X, y):\n",
    "    \"\"\" Performs grid search over the 'max_depth' parameter for a \n",
    "        decision tree regressor trained on the input data [X, y]. \"\"\"\n",
    "    \n",
    "    # Create cross-validation sets from the training data\n",
    "    # sklearn version 0.18: ShuffleSplit(n_splits=10, test_size=0.1, train_size=None, random_state=None)\n",
    "    # sklearn versiin 0.17: ShuffleSplit(n, n_iter=10, test_size=0.1, train_size=None, random_state=None)\n",
    "    cv_sets = ShuffleSplit(X.shape[0], n_iter = 10, test_size = 0.20, random_state = 0)\n",
    "\n",
    "    # TODO: Create a decision tree regressor object\n",
    "    regressor = DecisionTreeRegressor();\n",
    "\n",
    "    # TODO: Create a dictionary for the parameter 'max_depth' with a range from 1 to 10\n",
    "    params = {'max_depth':range(1,10)}\n",
    "\n",
    "    # TODO: Transform 'performance_metric' into a scoring function using 'make_scorer' \n",
    "    scoring_fnc = make_scorer(performance_metric);\n",
    "\n",
    "    # TODO: Create the grid search cv object --> GridSearchCV()\n",
    "    # Make sure to include the right parameters in the object:\n",
    "    # (estimator, param_grid, scoring, cv) which have values 'regressor', 'params', 'scoring_fnc', and 'cv_sets' respectively.\n",
    "    grid = GridSearchCV(regressor, params, scoring_fnc, cv=cv_sets)\n",
    "\n",
    "    # Fit the grid search object to the data to compute the optimal model\n",
    "    grid = grid.fit(X, y)\n",
    "\n",
    "    # Return the optimal model after fitting the data\n",
    "    return grid.best_estimator_"
   ]
  },
  {
   "cell_type": "markdown",
   "metadata": {},
   "source": [
    "### Making Predictions\n",
    "Once a model has been trained on a given set of data, it can now be used to make predictions on new sets of input data. In the case of a *decision tree regressor*, the model has learned *what the best questions to ask about the input data are*, and can respond with a prediction for the **target variable**. You can use these predictions to gain information about data where the value of the target variable is unknown — such as data the model was not trained on."
   ]
  },
  {
   "cell_type": "markdown",
   "metadata": {},
   "source": [
    "### Question 9 - Optimal Model\n",
    "\n",
    "* What maximum depth does the optimal model have? How does this result compare to your guess in **Question 6**?  \n",
    "\n",
    "Run the code block below to fit the decision tree regressor to the training data and produce an optimal model."
   ]
  },
  {
   "cell_type": "code",
   "execution_count": 51,
   "metadata": {
    "scrolled": true
   },
   "outputs": [
    {
     "name": "stdout",
     "output_type": "stream",
     "text": [
      "Parameter 'max_depth' is 4 for the optimal model.\n"
     ]
    }
   ],
   "source": [
    "# Fit the training data to the model using grid search\n",
    "reg = fit_model(X_train, y_train)\n",
    "\n",
    "# Produce the value for 'max_depth'\n",
    "print(\"Parameter 'max_depth' is {} for the optimal model.\".format(reg.get_params()['max_depth']))"
   ]
  },
  {
   "cell_type": "markdown",
   "metadata": {},
   "source": [
    "** Hint: ** The answer comes from the output of the code snipped above.\n",
    "\n",
    "**Answer:**\n",
    "\n",
    "The maximum depth value of the optimal model is **4**.\n",
    "\n",
    "My guess in question 6 was **3** for the reasons outlined in my answer. I was struggling to pick between 3 and 4, due to both appearing fairly optimal when inspecting the complexity curve diagram. In a way, I'm not surprised that the Grid Search optimiser came up with 4 as the answer, as when viewing the complexity curve, it can be seen that a maximum depth of 4 resulted in the highest score for both the training and validation data sets, with minimal variance. My reason for picking 3 was due to percieved risk of additional variance using 4 on even newer data, when 3 had the lowest variance and scores that were almost as high."
   ]
  },
  {
   "cell_type": "markdown",
   "metadata": {},
   "source": [
    "### Question 10 - Predicting Selling Prices\n",
    "Imagine that you were a real estate agent in the Boston area looking to use this model to help price homes owned by your clients that they wish to sell. You have collected the following information from three of your clients:\n",
    "\n",
    "| Feature | Client 1 | Client 2 | Client 3 |\n",
    "| :---: | :---: | :---: | :---: |\n",
    "| Total number of rooms in home | 5 rooms | 4 rooms | 8 rooms |\n",
    "| Neighborhood poverty level (as %) | 17% | 32% | 3% |\n",
    "| Student-teacher ratio of nearby schools | 15-to-1 | 22-to-1 | 12-to-1 |\n",
    "\n",
    "* What price would you recommend each client sell his/her home at? \n",
    "* Do these prices seem reasonable given the values for the respective features? \n",
    "\n",
    "**Hint:** Use the statistics you calculated in the **Data Exploration** section to help justify your response.  Of the three clients, client 3 has has the biggest house, in the best public school neighborhood with the lowest poverty level; while client 2 has the smallest house, in a neighborhood with a relatively high poverty rate and not the best public schools.\n",
    "\n",
    "Run the code block below to have your optimized model make predictions for each client's home."
   ]
  },
  {
   "cell_type": "code",
   "execution_count": 52,
   "metadata": {},
   "outputs": [
    {
     "name": "stdout",
     "output_type": "stream",
     "text": [
      "Predicted selling price for Client 1's home: $403,025.00\n",
      "Predicted selling price for Client 2's home: $237,478.72\n",
      "Predicted selling price for Client 3's home: $931,636.36\n"
     ]
    }
   ],
   "source": [
    "# Produce a matrix for client data\n",
    "client_data = [[5, 17, 15], # Client 1\n",
    "               [4, 32, 22], # Client 2\n",
    "               [8, 3, 12]]  # Client 3\n",
    "\n",
    "# Show predictions\n",
    "for i, price in enumerate(reg.predict(client_data)):\n",
    "    print(\"Predicted selling price for Client {}'s home: ${:,.2f}\".format(i+1, price))"
   ]
  },
  {
   "cell_type": "markdown",
   "metadata": {},
   "source": [
    "**Answer:**\n",
    "\n",
    "- Client 1 suggested sale price: \\$403,025.00\n",
    "\n",
    "- Client 2 suggested sale price: \\$237,478.72\n",
    "\n",
    "- Client 3 suggested sale price: \\$931,636.36\n",
    "\n",
    "These prices which were recommended (predicted) by our model **do** seem reasonable.\n",
    "\n",
    "Earlier in the Data Exploration section we established the following statistics regarding the complete data set:\n",
    "\n",
    "- Minimum price: \\$105,000.0\n",
    "- Maximum price: \\$1,024,800.0\n",
    "- Mean price: \\$454,342.94\n",
    "- Median price \\$438,900.0\n",
    "- Standard deviation of prices: \\$165,171.13\n",
    "\n",
    "The prices provided by the model can be seen as reasonable, in a very basic sense, when placed in the context of the general statistical attributes of the full dataset.\n",
    "\n",
    "- The largest recommended selling price (Client 3) falls below the maximum sales price in the data.\n",
    "- The next largest recommended selling price (Client 1) falls close to the mean and median selling prices.\n",
    "- Finally the lowest recommended selling price (Client 2) is above the minimum price.\n",
    "\n",
    "So at a glance, it appears the prediction values are not outliers and seem reasonably distributed across the range of values provided in the full dataset.\n",
    "\n",
    "We also provided justification for some common sense assumptions about which features of the dataset, when increased, would likely cause a house price to increase or decrease. Each of these assumptions is consistent with the final predictions provided by the model.\n",
    "\n",
    "_An increase in the 'Total number of rooms in home' (RM) of a given home generally **increases** the sale price of a home._\n",
    "\n",
    "- The home with the **highest** sale price (Client 3) has the **largest** total number of rooms.\n",
    "- The home with the **second highest** sale price (Client 1) has the **second largest** total number of rooms.\n",
    "- The home with the **lowest** sale price (Client 2) has the **lowest** total number of rooms.\n",
    "\n",
    "_An increase in the 'Neighborhood poverty level (as %)' (LSTAT) of a given home generally **decreases** the sale price of a home._\n",
    "\n",
    "- The home with the **lowest** sale price (Client 2) has the **highest** neighborhood poverty level (as %).\n",
    "- The home with the **second lowest** sale price (Client 1) has the **second highest** neighborhood poverty level (as %).\n",
    "- The home with the **highest** sale price (Client 3) has the **lowest** neighborhood poverty level (as %).\n",
    "\n",
    "_An increase in the 'Student-teacher ratio of nearby schools' (PTRATIO) of a given home generally **decreases** the sale price of a home._\n",
    "\n",
    "- The home with the **lowest** sale price (Client 2) has the **highest** student-teacher ratio of nearby schools.\n",
    "- The home with the **second lowest** sale price (Client 1) has the **second highest** student-teacher ratio of nearby schools.\n",
    "- The home with the **highest** sale price (Client 3) has the **lowest** student-teacher ratio of nearby schools.\n"
   ]
  },
  {
   "cell_type": "markdown",
   "metadata": {},
   "source": [
    "### Sensitivity\n",
    "An optimal model is not necessarily a robust model. Sometimes, a model is either too complex or too simple to sufficiently generalize to new data. Sometimes, a model could use a learning algorithm that is not appropriate for the structure of the data given. Other times, the data itself could be too noisy or contain too few samples to allow a model to adequately capture the target variable — i.e., the model is underfitted. \n",
    "\n",
    "**Run the code cell below to run the `fit_model` function ten times with different training and testing sets to see how the prediction for a specific client changes with respect to the data it's trained on.**"
   ]
  },
  {
   "cell_type": "code",
   "execution_count": 53,
   "metadata": {},
   "outputs": [
    {
     "name": "stdout",
     "output_type": "stream",
     "text": [
      "Trial 1: $391,183.33\n",
      "Trial 2: $424,935.00\n",
      "Trial 3: $415,800.00\n",
      "Trial 4: $420,622.22\n",
      "Trial 5: $413,334.78\n",
      "Trial 6: $411,931.58\n",
      "Trial 7: $399,663.16\n",
      "Trial 8: $407,232.00\n",
      "Trial 9: $351,577.61\n",
      "Trial 10: $413,700.00\n",
      "\n",
      "Range in prices: $73,357.39\n"
     ]
    }
   ],
   "source": [
    "vs.PredictTrials(features, prices, fit_model, client_data)"
   ]
  },
  {
   "cell_type": "markdown",
   "metadata": {},
   "source": [
    "### Question 11 - Applicability\n",
    "\n",
    "* In a few sentences, discuss whether the constructed model should or should not be used in a real-world setting.  \n",
    "\n",
    "**Hint:** Take a look at the range in prices as calculated in the code snippet above. Some questions to answering:\n",
    "- How relevant today is data that was collected from 1978? How important is inflation?\n",
    "- Are the features present in the data sufficient to describe a home? Do you think factors like quality of apppliances in the home, square feet of the plot area, presence of pool or not etc should factor in?\n",
    "- Is the model robust enough to make consistent predictions?\n",
    "- Would data collected in an urban city like Boston be applicable in a rural city?\n",
    "- Is it fair to judge the price of an individual home based on the characteristics of the entire neighborhood?"
   ]
  },
  {
   "cell_type": "markdown",
   "metadata": {},
   "source": [
    "**Answer:**\n",
    "\n",
    "The model should **not** be used in a real world setting.\n",
    "\n",
    "There are two primary reasons why this true.\n",
    "\n",
    "1. The training data is too old.\n",
    "\n",
    "While adjusting the model for inflation might bring the models price predictions into generally reasonable range for 40 years in the future, that's likely as close as they're going to get.\n",
    "\n",
    "For one thing, inflation doesn't take into account the movements of the property market in general or in terms of specific localities. For instance, a property that was worth $50,000 in 1978 might, having been adjusted for inflation, be predicted by the model to be worth $400,000 in 2018. However, the suburb where the property is located might have experienced a boom in popularity (due to invenstment in new schools in the area perhaps!) and a reduction in supply during the early 2000's and so the property is actually worth $800,000, causing the original prediction to be way off the mark.\n",
    "\n",
    "Another set of houses might have been in a poorer area during the 1970's, with a high LSTAT value, but since then the area has gentrified and suddenly become a booming hotspot. The LSTAT values for all of the properties in that particular area are now suddenly out of date and detrimental to our model predictions.\n",
    "\n",
    "Funnily enough, even the number of rooms is likely to change over that time period, as it's common for houses to be modified and extended upon.\n",
    "\n",
    "So at the end of the day, we really can't rely on any of the feature values recorded in the original data set to hold true for those same properties in 2018.\n",
    "\n",
    "2. The model is overly simplistic.\n",
    "\n",
    "Lets say we ignore the arguments above and that by some improbable series of events, the feature values from 1978 remained relevant and accurate for the same properties in 2018.\n",
    "\n",
    "In this scenario, the model is still much too simplistic to accurately predict property prices. There are simply too many other features that impact property prices that are not being considered by our model. A few examples are land area of the property, the age of the property, the architectural style, number of bathrooms, number of car spaces and whether or not the property has been renovated. In reality, any number of these features could have a drastic impact on the price of a property and are worth investigating in the model development.\n",
    "     \n",
    "Additionally, of the features the model does consider, there is too much emphasis on the property locality, with 2/3 of the models features are concerned with neighbourhood. While certainly important features (location, location, location) they still comprise a disproportionate amount of the decision making of the model. For instance a spectacular, award winningly designed two bedroom penthouse in reasonable but not overly affluent locale might be drastically underpriced by our model in it's current state.\n",
    "     \n",
    "     \n",
    "    \n"
   ]
  },
  {
   "cell_type": "markdown",
   "metadata": {},
   "source": [
    "> **Note**: Once you have completed all of the code implementations and successfully answered each question above, you may finalize your work by exporting the iPython Notebook as an HTML document. You can do this by using the menu above and navigating to  \n",
    "**File -> Download as -> HTML (.html)**. Include the finished document along with this notebook as your submission."
   ]
  }
 ],
 "metadata": {
  "anaconda-cloud": {},
  "kernelspec": {
   "display_name": "Python 3",
   "language": "python",
   "name": "python3"
  },
  "language_info": {
   "codemirror_mode": {
    "name": "ipython",
    "version": 3
   },
   "file_extension": ".py",
   "mimetype": "text/x-python",
   "name": "python",
   "nbconvert_exporter": "python",
   "pygments_lexer": "ipython3",
   "version": "3.7.0"
  }
 },
 "nbformat": 4,
 "nbformat_minor": 1
}
